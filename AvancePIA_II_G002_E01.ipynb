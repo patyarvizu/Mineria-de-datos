{
 "cells": [
  {
   "cell_type": "markdown",
   "metadata": {},
   "source": [
    "# MINERÍA DE DATOS\n",
    "\n",
    "# Avance II PIA\n",
    "\n",
    "## Equipo 01 Grupo 002 Mié 7-10pm\n",
    "\n",
    "* 1823604 Arvizu Rivera, Patricia Sarahí\n",
    "* 1725370 Carrillo Soto, Helena Patricia\n",
    "* 1807864 Puente González, Keila Rubi"
   ]
  },
  {
   "cell_type": "markdown",
   "metadata": {},
   "source": [
    "## *CO2_GHG_emissions-data* \n",
    "Para realizar nuestra investigación, usaremos la base de datos CO2_GHG_emissions-data obtenida\n",
    "de:\n",
    "https://www.kaggle.com/yoannboyere/co2-ghg-emissionsdata\n"
   ]
  },
  {
   "cell_type": "markdown",
   "metadata": {},
   "source": [
    "**Justificación**"
   ]
  },
  {
   "cell_type": "markdown",
   "metadata": {},
   "source": [
    "Nuestra motivación es generar conciencia en las personas sobre las emisiones de CO2 y gases de\n",
    "efecto invernadero y así poder contribuir a frenar el calentamiento global.\n",
    "\n",
    "\n",
    "Consideramos beneficioso analizar las emisiones y cómo han aumentado (o cambiado) a lo largo del\n",
    "tiempo, haciendo énfasis en los años tras eventos como el Protocolo de Kioto. La base de datos\n",
    "obtenida nos proporciona esta información desde 1750 para algunos países, 10 años antes de la\n",
    "Revolución Industrial. Analizando estos aspectos podemos evitar repetir comportamientos que nos\n",
    "perjudican y así como averiguar sobre alternativas que se pueden considerar ante las acciones que\n",
    "se están llevando a cabo y que estén generando una gran emisión de CO2 y GHG.\n",
    "\n",
    "\n",
    "Como estudiantes de actuaría, uno de los aspectos que estudiamos son las Series de Tiempo;\n",
    "consideramos que desde las técnicas de predicción y nuestros conocimientos matemáticos en\n",
    "general podemos ayudar al medio ambiente.\n",
    "\n",
    "**Objetivos**\n",
    "\n",
    "Nuestro objetivo principal es determinar el impacto que el Protocolo de Kioto tuvo sobre la emisión\n",
    "de los gases de efecto invernadero durante sus dos periodos de vigencia. Relacionar las emisiones\n",
    "de los países antes y después de que entraran al protocolo y verificar si las emisiones se redujeron.\n",
    "Como objetivos secundarios buscamos identificar los países que emiten mayor volumen de gases\n",
    "de efecto invernadero. Identificar si los países con mayores emisiones son precisamente aquellos\n",
    "que no están dentro del Protocolo de Kioto y además identificar a los países que realizan menos emisiones de CO2."
   ]
  },
  {
   "cell_type": "markdown",
   "metadata": {},
   "source": [
    "## *Preparación de datos*\n",
    "\n",
    "**Descripción de datos**"
   ]
  },
  {
   "cell_type": "markdown",
   "metadata": {},
   "source": [
    "Importación de librerías a utilizar"
   ]
  },
  {
   "cell_type": "code",
   "execution_count": 1,
   "metadata": {},
   "outputs": [],
   "source": [
    "import pandas as pd\n",
    "import numpy as np\n",
    "import json\n",
    "import matplotlib as plt\n",
    "import matplotlib.pyplot as plt1\n",
    "import seaborn as sns"
   ]
  },
  {
   "cell_type": "markdown",
   "metadata": {},
   "source": [
    "Lectura de datos. Previamente sabíamos que los datos nulos estaban con 0, por lo que a los valores con 0 los identificaremos como nulos."
   ]
  },
  {
   "cell_type": "code",
   "execution_count": 2,
   "metadata": {},
   "outputs": [],
   "source": [
    "df = pd.read_csv(\"C:/Users/sophi/Downloads/co2_emission.csv\",encoding='utf8', na_values=0)"
   ]
  },
  {
   "cell_type": "markdown",
   "metadata": {},
   "source": [
    "Los datos presentes en la base son una tabla y contiene el volumen de las emisiones de dióxido de\n",
    "carbono (CO2) y gases de efecto invernadero (GHG) de distintos países desde 1750 hasta 2017.\n",
    "\n",
    "El dataframe consta de 4 columnas:\n",
    "* Entity: Objeto. Esta columna contiene el nombre de los países (texto) con una entrada para cada año, lo que quiere decir que se destinarán varias filas para cada país según los años registrados de este.\n",
    "* Code: Objeto. Código ISO (texto), el cual es un código normalizado creado para los nombres de los países.\n",
    "* Year: Entero. Año de la emisión (tiempo).\n",
    "* Annual C02 emissions: Flotante. Emisiones anuales de CO2 medidas en toneladas (medición).\n"
   ]
  },
  {
   "cell_type": "markdown",
   "metadata": {},
   "source": [
    "Revisando el tamaño de la base de datos:"
   ]
  },
  {
   "cell_type": "code",
   "execution_count": 3,
   "metadata": {},
   "outputs": [
    {
     "data": {
      "text/plain": [
       "(20853, 4)"
      ]
     },
     "execution_count": 3,
     "metadata": {},
     "output_type": "execute_result"
    }
   ],
   "source": [
    "df.shape    "
   ]
  },
  {
   "cell_type": "markdown",
   "metadata": {},
   "source": [
    "Consta de 20,853 filas y 4 columnas.\n",
    "\n",
    "Revisando el nombre de las columnas:"
   ]
  },
  {
   "cell_type": "code",
   "execution_count": 4,
   "metadata": {},
   "outputs": [
    {
     "data": {
      "text/plain": [
       "['Entity', 'Code', 'Year', 'Annual CO₂ emissions (tonnes )']"
      ]
     },
     "execution_count": 4,
     "metadata": {},
     "output_type": "execute_result"
    }
   ],
   "source": [
    "list(df.columns)"
   ]
  },
  {
   "cell_type": "markdown",
   "metadata": {},
   "source": [
    "Tipo de datos que tenemos en las columnas:"
   ]
  },
  {
   "cell_type": "code",
   "execution_count": 5,
   "metadata": {},
   "outputs": [
    {
     "data": {
      "text/plain": [
       "Entity                             object\n",
       "Code                               object\n",
       "Year                                int64\n",
       "Annual CO₂ emissions (tonnes )    float64\n",
       "dtype: object"
      ]
     },
     "execution_count": 5,
     "metadata": {},
     "output_type": "execute_result"
    }
   ],
   "source": [
    "df.dtypes"
   ]
  },
  {
   "cell_type": "markdown",
   "metadata": {},
   "source": [
    "**Visualización de datos.**\n",
    "\n",
    "Utilizamos .head para la visualización de los títulos de las columnas y las primeras 5 filas"
   ]
  },
  {
   "cell_type": "code",
   "execution_count": 6,
   "metadata": {},
   "outputs": [
    {
     "data": {
      "text/html": [
       "<div>\n",
       "<style scoped>\n",
       "    .dataframe tbody tr th:only-of-type {\n",
       "        vertical-align: middle;\n",
       "    }\n",
       "\n",
       "    .dataframe tbody tr th {\n",
       "        vertical-align: top;\n",
       "    }\n",
       "\n",
       "    .dataframe thead th {\n",
       "        text-align: right;\n",
       "    }\n",
       "</style>\n",
       "<table border=\"1\" class=\"dataframe\">\n",
       "  <thead>\n",
       "    <tr style=\"text-align: right;\">\n",
       "      <th></th>\n",
       "      <th>Entity</th>\n",
       "      <th>Code</th>\n",
       "      <th>Year</th>\n",
       "      <th>Annual CO₂ emissions (tonnes )</th>\n",
       "    </tr>\n",
       "  </thead>\n",
       "  <tbody>\n",
       "    <tr>\n",
       "      <th>0</th>\n",
       "      <td>Afghanistan</td>\n",
       "      <td>AFG</td>\n",
       "      <td>1949</td>\n",
       "      <td>14656.0</td>\n",
       "    </tr>\n",
       "    <tr>\n",
       "      <th>1</th>\n",
       "      <td>Afghanistan</td>\n",
       "      <td>AFG</td>\n",
       "      <td>1950</td>\n",
       "      <td>84272.0</td>\n",
       "    </tr>\n",
       "    <tr>\n",
       "      <th>2</th>\n",
       "      <td>Afghanistan</td>\n",
       "      <td>AFG</td>\n",
       "      <td>1951</td>\n",
       "      <td>91600.0</td>\n",
       "    </tr>\n",
       "    <tr>\n",
       "      <th>3</th>\n",
       "      <td>Afghanistan</td>\n",
       "      <td>AFG</td>\n",
       "      <td>1952</td>\n",
       "      <td>91600.0</td>\n",
       "    </tr>\n",
       "    <tr>\n",
       "      <th>4</th>\n",
       "      <td>Afghanistan</td>\n",
       "      <td>AFG</td>\n",
       "      <td>1953</td>\n",
       "      <td>106256.0</td>\n",
       "    </tr>\n",
       "  </tbody>\n",
       "</table>\n",
       "</div>"
      ],
      "text/plain": [
       "        Entity Code  Year  Annual CO₂ emissions (tonnes )\n",
       "0  Afghanistan  AFG  1949                         14656.0\n",
       "1  Afghanistan  AFG  1950                         84272.0\n",
       "2  Afghanistan  AFG  1951                         91600.0\n",
       "3  Afghanistan  AFG  1952                         91600.0\n",
       "4  Afghanistan  AFG  1953                        106256.0"
      ]
     },
     "execution_count": 6,
     "metadata": {},
     "output_type": "execute_result"
    }
   ],
   "source": [
    "df.head() "
   ]
  },
  {
   "cell_type": "markdown",
   "metadata": {},
   "source": [
    "\n",
    "\n",
    "El nombre de la columna 4 es complicado por el subíndice de CO2, lo cambiaremos a \"CO2emissions\" para hacerlo más simple. Duplicaremos nuestros datos en \"data_frame\" para mantener los originales. Consideramos que el orden de las columnas está bien para lo que trabajaremos y no se necesita agregar o quitar alguna."
   ]
  },
  {
   "cell_type": "code",
   "execution_count": 7,
   "metadata": {},
   "outputs": [],
   "source": [
    "data_frame=df"
   ]
  },
  {
   "cell_type": "code",
   "execution_count": 8,
   "metadata": {},
   "outputs": [],
   "source": [
    "data_frame=data_frame.rename(columns = {'Annual CO₂ emissions (tonnes )':'CO2emissions'})"
   ]
  },
  {
   "cell_type": "markdown",
   "metadata": {},
   "source": [
    "Queremos saber cuántos países diferentes tenemos:"
   ]
  },
  {
   "cell_type": "code",
   "execution_count": 9,
   "metadata": {},
   "outputs": [
    {
     "data": {
      "text/plain": [
       "233"
      ]
     },
     "execution_count": 9,
     "metadata": {},
     "output_type": "execute_result"
    }
   ],
   "source": [
    "len(list(data_frame.Entity.unique()))"
   ]
  },
  {
   "cell_type": "markdown",
   "metadata": {},
   "source": [
    "**Manejo de datos nulos**\n",
    "\n",
    "Verificando si tenemos datos nulos en alguna columna:"
   ]
  },
  {
   "cell_type": "code",
   "execution_count": 10,
   "metadata": {},
   "outputs": [
    {
     "data": {
      "text/plain": [
       "Entity          False\n",
       "Code             True\n",
       "Year            False\n",
       "CO2emissions     True\n",
       "dtype: bool"
      ]
     },
     "execution_count": 10,
     "metadata": {},
     "output_type": "execute_result"
    }
   ],
   "source": [
    "data_frame.isnull().any()"
   ]
  },
  {
   "cell_type": "markdown",
   "metadata": {},
   "source": [
    "Saber cuántos datos nulos son:"
   ]
  },
  {
   "cell_type": "code",
   "execution_count": 11,
   "metadata": {},
   "outputs": [
    {
     "data": {
      "text/plain": [
       "Entity             0\n",
       "Code            2207\n",
       "Year               0\n",
       "CO2emissions    1289\n",
       "dtype: int64"
      ]
     },
     "execution_count": 11,
     "metadata": {},
     "output_type": "execute_result"
    }
   ],
   "source": [
    "data_frame.isnull().sum()"
   ]
  },
  {
   "cell_type": "markdown",
   "metadata": {},
   "source": [
    "Queremos saber qué países tienen código nulo y asignales uno."
   ]
  },
  {
   "cell_type": "code",
   "execution_count": 12,
   "metadata": {},
   "outputs": [],
   "source": [
    "nulos=data_frame[data_frame.Code.isnull()]"
   ]
  },
  {
   "cell_type": "code",
   "execution_count": 13,
   "metadata": {},
   "outputs": [
    {
     "data": {
      "text/plain": [
       "['Africa',\n",
       " 'Americas (other)',\n",
       " 'Antarctic Fisheries',\n",
       " 'Asia and Pacific (other)',\n",
       " 'EU-28',\n",
       " 'Europe (other)',\n",
       " 'International transport',\n",
       " 'Kyrgysztan',\n",
       " 'Middle East',\n",
       " 'Statistical differences',\n",
       " 'Wallis and Futuna Islands']"
      ]
     },
     "execution_count": 13,
     "metadata": {},
     "output_type": "execute_result"
    }
   ],
   "source": [
    "list(nulos.Entity.unique())"
   ]
  },
  {
   "cell_type": "code",
   "execution_count": 14,
   "metadata": {},
   "outputs": [],
   "source": [
    "data_frame.loc[data_frame['Entity'] == 'Africa', 'Code'] = 'AFR'\n",
    "data_frame.loc[data_frame['Entity'] == 'Americas (other)', 'Code'] = 'AME'\n",
    "data_frame.loc[data_frame['Entity'] == 'Antarctic Fisheries', 'Code'] = 'ANF'\n",
    "data_frame.loc[data_frame['Entity'] == 'Asia and Pacific (other)', 'Code'] = 'AAP'\n",
    "data_frame.loc[data_frame['Entity'] == 'EU-28', 'Code'] = 'E28'\n",
    "data_frame.loc[data_frame['Entity'] == 'Europe (other)', 'Code'] = 'EUO'\n",
    "data_frame.loc[data_frame['Entity'] == 'International transport', 'Code'] = 'INT'\n",
    "data_frame.loc[data_frame['Entity'] == 'Kyrgysztan', 'Code'] = 'KYR'\n",
    "data_frame.loc[data_frame['Entity'] == 'Middle East', 'Code'] = 'MIE'\n",
    "data_frame.loc[data_frame['Entity'] == 'Statistical differences', 'Code'] = 'STD'\n",
    "data_frame.loc[data_frame['Entity'] == 'Wallis and Futuna Islands', 'Code'] = 'WFI'\n",
    "#https://es.stackoverflow.com/questions/231231/remplazar-valores-de-un-data-frame-con-otros-python"
   ]
  },
  {
   "cell_type": "markdown",
   "metadata": {},
   "source": [
    "Queremos ver ahora si ya no hay \"Code\" nulos."
   ]
  },
  {
   "cell_type": "code",
   "execution_count": 15,
   "metadata": {},
   "outputs": [
    {
     "data": {
      "text/plain": [
       "Entity             0\n",
       "Code               0\n",
       "Year               0\n",
       "CO2emissions    1289\n",
       "dtype: int64"
      ]
     },
     "execution_count": 15,
     "metadata": {},
     "output_type": "execute_result"
    }
   ],
   "source": [
    "data_frame.isnull().sum()"
   ]
  },
  {
   "cell_type": "markdown",
   "metadata": {},
   "source": [
    "Dado que la suma en \"Code\" nos dio igual a cero significa que ya no tenemos \"Code\" nulos."
   ]
  },
  {
   "cell_type": "markdown",
   "metadata": {},
   "source": [
    "Duplicamos nuevamente nuestros datos en \"df_drop\" que será nuestro data frame sin datos nulos."
   ]
  },
  {
   "cell_type": "code",
   "execution_count": 16,
   "metadata": {},
   "outputs": [],
   "source": [
    "df_drop = data_frame.dropna()"
   ]
  },
  {
   "cell_type": "markdown",
   "metadata": {},
   "source": [
    "Verificamos que sí se hayan eliminado los datos nulos:"
   ]
  },
  {
   "cell_type": "code",
   "execution_count": 17,
   "metadata": {},
   "outputs": [
    {
     "data": {
      "text/plain": [
       "(19564, 4)"
      ]
     },
     "execution_count": 17,
     "metadata": {},
     "output_type": "execute_result"
    }
   ],
   "source": [
    "df_drop.shape  "
   ]
  },
  {
   "cell_type": "code",
   "execution_count": 18,
   "metadata": {},
   "outputs": [
    {
     "data": {
      "text/plain": [
       "Entity          False\n",
       "Code            False\n",
       "Year            False\n",
       "CO2emissions    False\n",
       "dtype: bool"
      ]
     },
     "execution_count": 18,
     "metadata": {},
     "output_type": "execute_result"
    }
   ],
   "source": [
    "df_drop.isnull().any()"
   ]
  },
  {
   "cell_type": "markdown",
   "metadata": {},
   "source": [
    "Como nos regresó \"Falso\" en todas las columnas significa que no tenemos datos nulos."
   ]
  },
  {
   "cell_type": "code",
   "execution_count": 19,
   "metadata": {},
   "outputs": [
    {
     "data": {
      "text/plain": [
       "Entity          0\n",
       "Code            0\n",
       "Year            0\n",
       "CO2emissions    0\n",
       "dtype: int64"
      ]
     },
     "execution_count": 19,
     "metadata": {},
     "output_type": "execute_result"
    }
   ],
   "source": [
    "df_drop.isnull().sum()"
   ]
  },
  {
   "cell_type": "markdown",
   "metadata": {},
   "source": [
    "Dado que la suma en todas las columnas nos dio igual a cero significa que ya no tenemos datos nulos."
   ]
  },
  {
   "cell_type": "markdown",
   "metadata": {},
   "source": [
    "Vemos cuántos países quedaron en el data frame después de eliminar los datos nulos. "
   ]
  },
  {
   "cell_type": "code",
   "execution_count": 20,
   "metadata": {},
   "outputs": [
    {
     "data": {
      "text/plain": [
       "232"
      ]
     },
     "execution_count": 20,
     "metadata": {},
     "output_type": "execute_result"
    }
   ],
   "source": [
    "len(list(df_drop.Entity.unique()))"
   ]
  },
  {
   "cell_type": "markdown",
   "metadata": {},
   "source": [
    "No tenemos datos de todos los países para todos los años, así que graficaremos para saber a partir de qué año comenzamos a tener más datos."
   ]
  },
  {
   "cell_type": "code",
   "execution_count": 21,
   "metadata": {},
   "outputs": [
    {
     "data": {
      "text/plain": [
       "<matplotlib.axes._subplots.AxesSubplot at 0x183d538f430>"
      ]
     },
     "execution_count": 21,
     "metadata": {},
     "output_type": "execute_result"
    },
    {
     "data": {
      "image/png": "[encoded data removed]",
      "text/plain": [
       "<Figure size 432x288 with 1 Axes>"
      ]
     },
     "metadata": {
      "needs_background": "light"
     },
     "output_type": "display_data"
    }
   ],
   "source": [
    "df_drop['Year'].value_counts().sort_index().plot.bar()"
   ]
  },
  {
   "cell_type": "code",
   "execution_count": 22,
   "metadata": {},
   "outputs": [
    {
     "data": {
      "text/plain": [
       "<matplotlib.axes._subplots.AxesSubplot at 0x183d60027f0>"
      ]
     },
     "execution_count": 22,
     "metadata": {},
     "output_type": "execute_result"
    },
    {
     "data": {
      "image/png": "[encoded data removed]",
      "text/plain": [
       "<Figure size 432x288 with 1 Axes>"
      ]
     },
     "metadata": {
      "needs_background": "light"
     },
     "output_type": "display_data"
    }
   ],
   "source": [
    "df_drop['Year'].plot.hist()"
   ]
  },
  {
   "cell_type": "markdown",
   "metadata": {},
   "source": [
    "Vemos que a partir de 1950 hay más datos. Haremos nuevamente un histograma sólo para los años que son mayor o igual a 1950."
   ]
  },
  {
   "cell_type": "code",
   "execution_count": 23,
   "metadata": {},
   "outputs": [
    {
     "data": {
      "text/plain": [
       "<matplotlib.axes._subplots.AxesSubplot at 0x183d5310700>"
      ]
     },
     "execution_count": 23,
     "metadata": {},
     "output_type": "execute_result"
    },
    {
     "data": {
      "image/png": "[encoded data removed]",
      "text/plain": [
       "<Figure size 432x288 with 1 Axes>"
      ]
     },
     "metadata": {
      "needs_background": "light"
     },
     "output_type": "display_data"
    }
   ],
   "source": [
    "df_drop[df_drop['Year']>=1950]['Year'].plot.hist()"
   ]
  },
  {
   "cell_type": "markdown",
   "metadata": {},
   "source": [
    "Hacemos una gráfica de barras para los años mayores o iguales a 1950."
   ]
  },
  {
   "cell_type": "code",
   "execution_count": 24,
   "metadata": {},
   "outputs": [
    {
     "data": {
      "text/plain": [
       "<matplotlib.axes._subplots.AxesSubplot at 0x183d53100d0>"
      ]
     },
     "execution_count": 24,
     "metadata": {},
     "output_type": "execute_result"
    },
    {
     "data": {
      "image/png": "[encoded data removed]",
      "text/plain": [
       "<Figure size 432x288 with 1 Axes>"
      ]
     },
     "metadata": {
      "needs_background": "light"
     },
     "output_type": "display_data"
    }
   ],
   "source": [
    "df_drop[df_drop['Year']>=1950]['Year'].value_counts().sort_index().plot.bar()"
   ]
  },
  {
   "cell_type": "markdown",
   "metadata": {},
   "source": [
    "Todavía en los primeros años hay alrededor de 50 países que faltan, verificaremos ahora con los años que son mayores o iguales a 1960, ya que en el último histograma es en donde los datos por año aumentan."
   ]
  },
  {
   "cell_type": "code",
   "execution_count": 25,
   "metadata": {},
   "outputs": [
    {
     "data": {
      "text/plain": [
       "<matplotlib.axes._subplots.AxesSubplot at 0x183d5f9b580>"
      ]
     },
     "execution_count": 25,
     "metadata": {},
     "output_type": "execute_result"
    },
    {
     "data": {
      "image/png": "[encoded data removed]",
      "text/plain": [
       "<Figure size 432x288 with 1 Axes>"
      ]
     },
     "metadata": {
      "needs_background": "light"
     },
     "output_type": "display_data"
    }
   ],
   "source": [
    "df_drop[df_drop['Year']>=1960]['Year'].value_counts().sort_index().plot.bar()"
   ]
  },
  {
   "cell_type": "markdown",
   "metadata": {},
   "source": [
    "Aquí ya se ve muy similar la cantidad de países de los que se tienen datos. Por lo que para nuestra base de datos final usaremos la que no tiene datos nulos y además los datos de la columna \"Year\" son mayor o igual a 1960."
   ]
  },
  {
   "cell_type": "code",
   "execution_count": 26,
   "metadata": {},
   "outputs": [],
   "source": [
    "dataframe=df_drop[df_drop['Year']>=1960]"
   ]
  },
  {
   "cell_type": "markdown",
   "metadata": {},
   "source": [
    "Verificamos la cantidad de datos total que tenemos en nuestra base de datos a utilizar."
   ]
  },
  {
   "cell_type": "code",
   "execution_count": 27,
   "metadata": {},
   "outputs": [
    {
     "data": {
      "text/plain": [
       "(12677, 4)"
      ]
     },
     "execution_count": 27,
     "metadata": {},
     "output_type": "execute_result"
    }
   ],
   "source": [
    "dataframe.shape  "
   ]
  },
  {
   "cell_type": "code",
   "execution_count": 28,
   "metadata": {},
   "outputs": [
    {
     "data": {
      "text/plain": [
       "232"
      ]
     },
     "execution_count": 28,
     "metadata": {},
     "output_type": "execute_result"
    }
   ],
   "source": [
    "len(list(dataframe.Entity.unique()))"
   ]
  },
  {
   "cell_type": "markdown",
   "metadata": {},
   "source": [
    "Finalmente creamos un archivo .csv con el dataframe que usaremos."
   ]
  },
  {
   "cell_type": "code",
   "execution_count": 29,
   "metadata": {},
   "outputs": [],
   "source": [
    "dataframe.to_csv('C:/Users/sophi/Downloads/df_co2emissions.csv', index=False)"
   ]
  },
  {
   "cell_type": "markdown",
   "metadata": {},
   "source": [
    "En resumen, tendremos 232 entidades con medición de CO2 emitido (en toneladas) a partir de 1960 que en total nos dan 12,677 datos.\n",
    "\n",
    "\n",
    "## *Análisis estadístico*"
   ]
  },
  {
   "cell_type": "code",
   "execution_count": 30,
   "metadata": {},
   "outputs": [],
   "source": [
    "df = pd.read_csv(\"C:/Users/sophi/Downloads/df_co2emissions.csv\",encoding='utf8', na_values=0)"
   ]
  },
  {
   "cell_type": "markdown",
   "metadata": {},
   "source": [
    "Como desde nuestro dataframe tenemos la emisión global por año, usaremos funciones de estadística básica sólo para estos datos, creando un nuevo dataframe sólo para entity=World"
   ]
  },
  {
   "cell_type": "code",
   "execution_count": 31,
   "metadata": {},
   "outputs": [],
   "source": [
    "dataframe=df[df['Entity']=='World']"
   ]
  },
  {
   "cell_type": "markdown",
   "metadata": {},
   "source": [
    "Nuestra columna más importante es la de CO2emissions, usaremos algunas funciones para entender mejor cómo se ha comportado la emisión de gases. Primero usaremos .describe() ya que nos da la cantidad de valores no nulos, la media, la varianza, el valor mínimo, los cuartiles y el valor máximo."
   ]
  },
  {
   "cell_type": "code",
   "execution_count": 32,
   "metadata": {},
   "outputs": [
    {
     "data": {
      "text/plain": [
       "count    5.800000e+01\n",
       "mean     2.203288e+10\n",
       "std      7.660097e+09\n",
       "min      9.410530e+09\n",
       "25%      1.690092e+10\n",
       "50%      2.191713e+10\n",
       "75%      2.652360e+10\n",
       "max      3.615326e+10\n",
       "Name: CO2emissions, dtype: float64"
      ]
     },
     "execution_count": 32,
     "metadata": {},
     "output_type": "execute_result"
    }
   ],
   "source": [
    "dataframe['CO2emissions'].describe()"
   ]
  },
  {
   "cell_type": "markdown",
   "metadata": {},
   "source": [
    "De aquí, vemos que son 58 datos y que sí tienen un varianza grande. Esto lo relacionamos con que la emisión de CO2 en el mundo ha aumentado de manera desacelerada."
   ]
  },
  {
   "cell_type": "code",
   "execution_count": 33,
   "metadata": {},
   "outputs": [
    {
     "data": {
      "text/html": [
       "<div>\n",
       "<style scoped>\n",
       "    .dataframe tbody tr th:only-of-type {\n",
       "        vertical-align: middle;\n",
       "    }\n",
       "\n",
       "    .dataframe tbody tr th {\n",
       "        vertical-align: top;\n",
       "    }\n",
       "\n",
       "    .dataframe thead th {\n",
       "        text-align: right;\n",
       "    }\n",
       "</style>\n",
       "<table border=\"1\" class=\"dataframe\">\n",
       "  <thead>\n",
       "    <tr style=\"text-align: right;\">\n",
       "      <th></th>\n",
       "      <th>Year</th>\n",
       "      <th>CO2emissions</th>\n",
       "    </tr>\n",
       "  </thead>\n",
       "  <tbody>\n",
       "    <tr>\n",
       "      <th>Year</th>\n",
       "      <td>1.000000</td>\n",
       "      <td>0.983244</td>\n",
       "    </tr>\n",
       "    <tr>\n",
       "      <th>CO2emissions</th>\n",
       "      <td>0.983244</td>\n",
       "      <td>1.000000</td>\n",
       "    </tr>\n",
       "  </tbody>\n",
       "</table>\n",
       "</div>"
      ],
      "text/plain": [
       "                  Year  CO2emissions\n",
       "Year          1.000000      0.983244\n",
       "CO2emissions  0.983244      1.000000"
      ]
     },
     "execution_count": 33,
     "metadata": {},
     "output_type": "execute_result"
    }
   ],
   "source": [
    "dataframe.corr()"
   ]
  },
  {
   "cell_type": "markdown",
   "metadata": {},
   "source": [
    "Al tener la correlación números muy cercanos a 1 podemos concluir que existe una relación lineal muy grande entre las emisiones y el año en que se hicieron.\n",
    "\n",
    "\n",
    "Ahora revisaremos estadísticas por país centrándonos en el año 2017, para ello es necesario eliminar primero a las entidades que no son países y a las que pertenecen a la Unión Europea, ya que se estará evaluando como un conjunto:"
   ]
  },
  {
   "cell_type": "code",
   "execution_count": 52,
   "metadata": {
    "scrolled": true
   },
   "outputs": [],
   "source": [
    "paises= df.drop(df[df['Entity']=='World'].index)\n",
    "paises= paises.drop(paises[paises['Entity']=='Austria'].index)\n",
    "paises= paises.drop(paises[paises['Entity']=='Belgium'].index)\n",
    "paises= paises.drop(paises[paises['Entity']=='Bulgaria'].index)\n",
    "paises= paises.drop(paises[paises['Entity']=='Cyprus'].index)\n",
    "paises= paises.drop(paises[paises['Entity']=='Denmark'].index)\n",
    "paises= paises.drop(paises[paises['Entity']=='Estonia'].index)\n",
    "paises= paises.drop(paises[paises['Entity']=='Finland'].index)\n",
    "paises= paises.drop(paises[paises['Entity']=='France'].index)\n",
    "paises= paises.drop(paises[paises['Entity']=='Germany'].index)\n",
    "paises= paises.drop(paises[paises['Entity']=='Greece'].index)\n",
    "paises= paises.drop(paises[paises['Entity']=='Hungary'].index)\n",
    "paises= paises.drop(paises[paises['Entity']=='Ireland'].index)\n",
    "paises= paises.drop(paises[paises['Entity']=='Italy'].index)\n",
    "paises= paises.drop(paises[paises['Entity']=='Latvia'].index)\n",
    "paises= paises.drop(paises[paises['Entity']=='Lithuania'].index)\n",
    "paises= paises.drop(paises[paises['Entity']=='Luxembourg'].index)\n",
    "paises= paises.drop(paises[paises['Entity']=='Malta'].index)\n",
    "paises= paises.drop(paises[paises['Entity']=='Netherlands'].index)\n",
    "paises= paises.drop(paises[paises['Entity']=='Poland'].index)\n",
    "paises= paises.drop(paises[paises['Entity']=='Portugal'].index)\n",
    "paises= paises.drop(paises[paises['Entity']=='Romania'].index)\n",
    "paises= paises.drop(paises[paises['Entity']=='Slovakia'].index)\n",
    "paises= paises.drop(paises[paises['Entity']=='Slovenia'].index)\n",
    "paises= paises.drop(paises[paises['Entity']=='Spain'].index)\n",
    "paises= paises.drop(paises[paises['Entity']=='Sweden'].index)\n",
    "paises= paises.drop(paises[paises['Entity']=='International transport'].index)\n",
    "paises= paises.drop(paises[paises['Entity']=='Statistical differences'].index)\n",
    "paises= paises.drop(paises[paises['Entity']=='Africa'].index)\n",
    "#https://www.geeksforgeeks.org/drop-rows-from-the-dataframe-based-on-certain-condition-applied-on-a-column/"
   ]
  },
  {
   "cell_type": "code",
   "execution_count": 53,
   "metadata": {},
   "outputs": [],
   "source": [
    "pa17=paises[paises['Year']==2017]"
   ]
  },
  {
   "cell_type": "code",
   "execution_count": 54,
   "metadata": {},
   "outputs": [
    {
     "data": {
      "text/html": [
       "<div>\n",
       "<style scoped>\n",
       "    .dataframe tbody tr th:only-of-type {\n",
       "        vertical-align: middle;\n",
       "    }\n",
       "\n",
       "    .dataframe tbody tr th {\n",
       "        vertical-align: top;\n",
       "    }\n",
       "\n",
       "    .dataframe thead th {\n",
       "        text-align: right;\n",
       "    }\n",
       "</style>\n",
       "<table border=\"1\" class=\"dataframe\">\n",
       "  <thead>\n",
       "    <tr style=\"text-align: right;\">\n",
       "      <th></th>\n",
       "      <th>Year</th>\n",
       "      <th>CO2emissions</th>\n",
       "    </tr>\n",
       "  </thead>\n",
       "  <tbody>\n",
       "    <tr>\n",
       "      <th>count</th>\n",
       "      <td>193.0</td>\n",
       "      <td>1.930000e+02</td>\n",
       "    </tr>\n",
       "    <tr>\n",
       "      <th>mean</th>\n",
       "      <td>2017.0</td>\n",
       "      <td>2.463309e+08</td>\n",
       "    </tr>\n",
       "    <tr>\n",
       "      <th>std</th>\n",
       "      <td>0.0</td>\n",
       "      <td>9.759886e+08</td>\n",
       "    </tr>\n",
       "    <tr>\n",
       "      <th>min</th>\n",
       "      <td>2017.0</td>\n",
       "      <td>1.169579e+04</td>\n",
       "    </tr>\n",
       "    <tr>\n",
       "      <th>25%</th>\n",
       "      <td>2017.0</td>\n",
       "      <td>1.024740e+06</td>\n",
       "    </tr>\n",
       "    <tr>\n",
       "      <th>50%</th>\n",
       "      <td>2017.0</td>\n",
       "      <td>7.687196e+06</td>\n",
       "    </tr>\n",
       "    <tr>\n",
       "      <th>75%</th>\n",
       "      <td>2017.0</td>\n",
       "      <td>6.272530e+07</td>\n",
       "    </tr>\n",
       "    <tr>\n",
       "      <th>max</th>\n",
       "      <td>2017.0</td>\n",
       "      <td>9.838754e+09</td>\n",
       "    </tr>\n",
       "  </tbody>\n",
       "</table>\n",
       "</div>"
      ],
      "text/plain": [
       "         Year  CO2emissions\n",
       "count   193.0  1.930000e+02\n",
       "mean   2017.0  2.463309e+08\n",
       "std       0.0  9.759886e+08\n",
       "min    2017.0  1.169579e+04\n",
       "25%    2017.0  1.024740e+06\n",
       "50%    2017.0  7.687196e+06\n",
       "75%    2017.0  6.272530e+07\n",
       "max    2017.0  9.838754e+09"
      ]
     },
     "execution_count": 54,
     "metadata": {},
     "output_type": "execute_result"
    }
   ],
   "source": [
    "pa17.describe()"
   ]
  },
  {
   "cell_type": "markdown",
   "metadata": {},
   "source": [
    "Para saber cuáles son los países que tienen mayor y menor grado de contaminación los ordenamos de manera descendente:"
   ]
  },
  {
   "cell_type": "code",
   "execution_count": 55,
   "metadata": {},
   "outputs": [],
   "source": [
    "pa17_sort=pa17.sort_values(by=['CO2emissions'], ascending= False)"
   ]
  },
  {
   "cell_type": "code",
   "execution_count": 56,
   "metadata": {},
   "outputs": [
    {
     "data": {
      "text/html": [
       "<div>\n",
       "<style scoped>\n",
       "    .dataframe tbody tr th:only-of-type {\n",
       "        vertical-align: middle;\n",
       "    }\n",
       "\n",
       "    .dataframe tbody tr th {\n",
       "        vertical-align: top;\n",
       "    }\n",
       "\n",
       "    .dataframe thead th {\n",
       "        text-align: right;\n",
       "    }\n",
       "</style>\n",
       "<table border=\"1\" class=\"dataframe\">\n",
       "  <thead>\n",
       "    <tr style=\"text-align: right;\">\n",
       "      <th></th>\n",
       "      <th>Entity</th>\n",
       "      <th>Code</th>\n",
       "      <th>Year</th>\n",
       "      <th>CO2emissions</th>\n",
       "    </tr>\n",
       "  </thead>\n",
       "  <tbody>\n",
       "    <tr>\n",
       "      <th>2540</th>\n",
       "      <td>China</td>\n",
       "      <td>CHN</td>\n",
       "      <td>2017</td>\n",
       "      <td>9.838754e+09</td>\n",
       "    </tr>\n",
       "    <tr>\n",
       "      <th>12149</th>\n",
       "      <td>United States</td>\n",
       "      <td>USA</td>\n",
       "      <td>2017</td>\n",
       "      <td>5.269530e+09</td>\n",
       "    </tr>\n",
       "    <tr>\n",
       "      <th>714</th>\n",
       "      <td>Asia and Pacific (other)</td>\n",
       "      <td>AAP</td>\n",
       "      <td>2017</td>\n",
       "      <td>5.071156e+09</td>\n",
       "    </tr>\n",
       "    <tr>\n",
       "      <th>3563</th>\n",
       "      <td>EU-28</td>\n",
       "      <td>E28</td>\n",
       "      <td>2017</td>\n",
       "      <td>3.543683e+09</td>\n",
       "    </tr>\n",
       "    <tr>\n",
       "      <th>7619</th>\n",
       "      <td>Middle East</td>\n",
       "      <td>MIE</td>\n",
       "      <td>2017</td>\n",
       "      <td>2.671943e+09</td>\n",
       "    </tr>\n",
       "    <tr>\n",
       "      <th>...</th>\n",
       "      <td>...</td>\n",
       "      <td>...</td>\n",
       "      <td>...</td>\n",
       "      <td>...</td>\n",
       "    </tr>\n",
       "    <tr>\n",
       "      <th>7817</th>\n",
       "      <td>Montserrat</td>\n",
       "      <td>MSR</td>\n",
       "      <td>2017</td>\n",
       "      <td>5.068175e+04</td>\n",
       "    </tr>\n",
       "    <tr>\n",
       "      <th>12444</th>\n",
       "      <td>Wallis and Futuna Islands</td>\n",
       "      <td>WFI</td>\n",
       "      <td>2017</td>\n",
       "      <td>2.590908e+04</td>\n",
       "    </tr>\n",
       "    <tr>\n",
       "      <th>11859</th>\n",
       "      <td>Tuvalu</td>\n",
       "      <td>TUV</td>\n",
       "      <td>2017</td>\n",
       "      <td>1.295454e+04</td>\n",
       "    </tr>\n",
       "    <tr>\n",
       "      <th>8526</th>\n",
       "      <td>Niue</td>\n",
       "      <td>NIU</td>\n",
       "      <td>2017</td>\n",
       "      <td>1.295454e+04</td>\n",
       "    </tr>\n",
       "    <tr>\n",
       "      <th>9571</th>\n",
       "      <td>Saint Helena</td>\n",
       "      <td>SHN</td>\n",
       "      <td>2017</td>\n",
       "      <td>1.169579e+04</td>\n",
       "    </tr>\n",
       "  </tbody>\n",
       "</table>\n",
       "<p>193 rows × 4 columns</p>\n",
       "</div>"
      ],
      "text/plain": [
       "                          Entity Code  Year  CO2emissions\n",
       "2540                       China  CHN  2017  9.838754e+09\n",
       "12149              United States  USA  2017  5.269530e+09\n",
       "714     Asia and Pacific (other)  AAP  2017  5.071156e+09\n",
       "3563                       EU-28  E28  2017  3.543683e+09\n",
       "7619                 Middle East  MIE  2017  2.671943e+09\n",
       "...                          ...  ...   ...           ...\n",
       "7817                  Montserrat  MSR  2017  5.068175e+04\n",
       "12444  Wallis and Futuna Islands  WFI  2017  2.590908e+04\n",
       "11859                     Tuvalu  TUV  2017  1.295454e+04\n",
       "8526                        Niue  NIU  2017  1.295454e+04\n",
       "9571                Saint Helena  SHN  2017  1.169579e+04\n",
       "\n",
       "[193 rows x 4 columns]"
      ]
     },
     "execution_count": 56,
     "metadata": {},
     "output_type": "execute_result"
    }
   ],
   "source": [
    "pa17_sort"
   ]
  },
  {
   "cell_type": "markdown",
   "metadata": {},
   "source": [
    "## *Análisis gráfico de las emisiones de CO2*"
   ]
  },
  {
   "cell_type": "markdown",
   "metadata": {},
   "source": [
    "**Análisis de las emisiones de CO2 por país**"
   ]
  },
  {
   "cell_type": "markdown",
   "metadata": {},
   "source": [
    "Para observar el top de emisión por países evaluamos cuatro años clave en el Protocolo de Kioto:\n",
    "* 1997: Año en el que se firmó el acuerdo\n",
    "* 2005: Año en que comenzó la vigencia\n",
    "* 2012: Año en que se renovó su validez (pero Estados Unidos y China salieron del acuerdo)\n",
    "* 2017: Año más reciente del que se tienen registros"
   ]
  },
  {
   "cell_type": "code",
   "execution_count": 72,
   "metadata": {},
   "outputs": [
    {
     "data": {
      "text/html": [
       "<div>\n",
       "<style scoped>\n",
       "    .dataframe tbody tr th:only-of-type {\n",
       "        vertical-align: middle;\n",
       "    }\n",
       "\n",
       "    .dataframe tbody tr th {\n",
       "        vertical-align: top;\n",
       "    }\n",
       "\n",
       "    .dataframe thead th {\n",
       "        text-align: right;\n",
       "    }\n",
       "</style>\n",
       "<table border=\"1\" class=\"dataframe\">\n",
       "  <thead>\n",
       "    <tr style=\"text-align: right;\">\n",
       "      <th></th>\n",
       "      <th>Entity</th>\n",
       "      <th>Code</th>\n",
       "      <th>Year</th>\n",
       "      <th>CO2emissions</th>\n",
       "    </tr>\n",
       "  </thead>\n",
       "  <tbody>\n",
       "    <tr>\n",
       "      <th>0</th>\n",
       "      <td>China</td>\n",
       "      <td>CHN</td>\n",
       "      <td>2017</td>\n",
       "      <td>9.838754e+09</td>\n",
       "    </tr>\n",
       "    <tr>\n",
       "      <th>1</th>\n",
       "      <td>United States</td>\n",
       "      <td>USA</td>\n",
       "      <td>2017</td>\n",
       "      <td>5.269530e+09</td>\n",
       "    </tr>\n",
       "    <tr>\n",
       "      <th>2</th>\n",
       "      <td>Asia and Pacific (other)</td>\n",
       "      <td>AAP</td>\n",
       "      <td>2017</td>\n",
       "      <td>5.071156e+09</td>\n",
       "    </tr>\n",
       "    <tr>\n",
       "      <th>3</th>\n",
       "      <td>EU-28</td>\n",
       "      <td>E28</td>\n",
       "      <td>2017</td>\n",
       "      <td>3.543683e+09</td>\n",
       "    </tr>\n",
       "    <tr>\n",
       "      <th>4</th>\n",
       "      <td>Middle East</td>\n",
       "      <td>MIE</td>\n",
       "      <td>2017</td>\n",
       "      <td>2.671943e+09</td>\n",
       "    </tr>\n",
       "    <tr>\n",
       "      <th>5</th>\n",
       "      <td>India</td>\n",
       "      <td>IND</td>\n",
       "      <td>2017</td>\n",
       "      <td>2.466765e+09</td>\n",
       "    </tr>\n",
       "    <tr>\n",
       "      <th>6</th>\n",
       "      <td>others</td>\n",
       "      <td>OTH</td>\n",
       "      <td>2017</td>\n",
       "      <td>1.868003e+10</td>\n",
       "    </tr>\n",
       "  </tbody>\n",
       "</table>\n",
       "</div>"
      ],
      "text/plain": [
       "                     Entity Code  Year  CO2emissions\n",
       "0                     China  CHN  2017  9.838754e+09\n",
       "1             United States  USA  2017  5.269530e+09\n",
       "2  Asia and Pacific (other)  AAP  2017  5.071156e+09\n",
       "3                     EU-28  E28  2017  3.543683e+09\n",
       "4               Middle East  MIE  2017  2.671943e+09\n",
       "5                     India  IND  2017  2.466765e+09\n",
       "6                    others  OTH  2017  1.868003e+10"
      ]
     },
     "execution_count": 72,
     "metadata": {},
     "output_type": "execute_result"
    }
   ],
   "source": [
    "PA17=pa17_sort[0:6]\n",
    "PA172 = pa17_sort[6:]\n",
    "PA172_Sum= PA172['CO2emissions'].sum()\n",
    "PA17 = PA17.append({'Entity':'others','Code':'OTH','Year': 2017,'CO2emissions':PA172_Sum},ignore_index=True)\n",
    "PA17"
   ]
  },
  {
   "cell_type": "code",
   "execution_count": 62,
   "metadata": {},
   "outputs": [
    {
     "data": {
      "image/png": "[encoded data removed]",
      "text/plain": [
       "<Figure size 432x288 with 1 Axes>"
      ]
     },
     "metadata": {},
     "output_type": "display_data"
    }
   ],
   "source": [
    "plt1.pie(PA17['CO2emissions'], labels= PA17['Entity'], autopct = \" %0.1f %% \")\n",
    "plt1.show()"
   ]
  },
  {
   "cell_type": "markdown",
   "metadata": {},
   "source": [
    "Podemos observar que en el año 2017 seis entidades emitieron más del 60% del CO2, siendo China quien emitió aproximadamente una quinta parte del total con un 20.7%"
   ]
  },
  {
   "cell_type": "code",
   "execution_count": 73,
   "metadata": {},
   "outputs": [
    {
     "data": {
      "text/html": [
       "<div>\n",
       "<style scoped>\n",
       "    .dataframe tbody tr th:only-of-type {\n",
       "        vertical-align: middle;\n",
       "    }\n",
       "\n",
       "    .dataframe tbody tr th {\n",
       "        vertical-align: top;\n",
       "    }\n",
       "\n",
       "    .dataframe thead th {\n",
       "        text-align: right;\n",
       "    }\n",
       "</style>\n",
       "<table border=\"1\" class=\"dataframe\">\n",
       "  <thead>\n",
       "    <tr style=\"text-align: right;\">\n",
       "      <th></th>\n",
       "      <th>Entity</th>\n",
       "      <th>Code</th>\n",
       "      <th>Year</th>\n",
       "      <th>CO2emissions</th>\n",
       "    </tr>\n",
       "  </thead>\n",
       "  <tbody>\n",
       "    <tr>\n",
       "      <th>0</th>\n",
       "      <td>China</td>\n",
       "      <td>CHN</td>\n",
       "      <td>2012</td>\n",
       "      <td>9.633899e+09</td>\n",
       "    </tr>\n",
       "    <tr>\n",
       "      <th>1</th>\n",
       "      <td>United States</td>\n",
       "      <td>USA</td>\n",
       "      <td>2012</td>\n",
       "      <td>5.366730e+09</td>\n",
       "    </tr>\n",
       "    <tr>\n",
       "      <th>2</th>\n",
       "      <td>Asia and Pacific (other)</td>\n",
       "      <td>AAP</td>\n",
       "      <td>2012</td>\n",
       "      <td>4.881674e+09</td>\n",
       "    </tr>\n",
       "    <tr>\n",
       "      <th>3</th>\n",
       "      <td>EU-28</td>\n",
       "      <td>E28</td>\n",
       "      <td>2012</td>\n",
       "      <td>3.747241e+09</td>\n",
       "    </tr>\n",
       "    <tr>\n",
       "      <th>4</th>\n",
       "      <td>Americas (other)</td>\n",
       "      <td>AME</td>\n",
       "      <td>2012</td>\n",
       "      <td>2.375406e+09</td>\n",
       "    </tr>\n",
       "    <tr>\n",
       "      <th>5</th>\n",
       "      <td>Middle East</td>\n",
       "      <td>MIE</td>\n",
       "      <td>2012</td>\n",
       "      <td>2.308105e+09</td>\n",
       "    </tr>\n",
       "    <tr>\n",
       "      <th>6</th>\n",
       "      <td>others</td>\n",
       "      <td>OTH</td>\n",
       "      <td>2012</td>\n",
       "      <td>1.793843e+10</td>\n",
       "    </tr>\n",
       "  </tbody>\n",
       "</table>\n",
       "</div>"
      ],
      "text/plain": [
       "                     Entity Code  Year  CO2emissions\n",
       "0                     China  CHN  2012  9.633899e+09\n",
       "1             United States  USA  2012  5.366730e+09\n",
       "2  Asia and Pacific (other)  AAP  2012  4.881674e+09\n",
       "3                     EU-28  E28  2012  3.747241e+09\n",
       "4          Americas (other)  AME  2012  2.375406e+09\n",
       "5               Middle East  MIE  2012  2.308105e+09\n",
       "6                    others  OTH  2012  1.793843e+10"
      ]
     },
     "execution_count": 73,
     "metadata": {},
     "output_type": "execute_result"
    }
   ],
   "source": [
    "pa12=paises[paises['Year']==2012]\n",
    "pa12_sort=pa12.sort_values(by=['CO2emissions'], ascending= False)\n",
    "PA12=pa12_sort[0:6]\n",
    "PA122 = pa12_sort[6:]\n",
    "PA122_Sum= PA122['CO2emissions'].sum()\n",
    "PA12 = PA12.append({'Entity':'others','Code':'OTH','Year': 2012,'CO2emissions':PA122_Sum},ignore_index=True)\n",
    "PA12"
   ]
  },
  {
   "cell_type": "code",
   "execution_count": 71,
   "metadata": {},
   "outputs": [
    {
     "data": {
      "image/png": "[encoded data removed]",
      "text/plain": [
       "<Figure size 432x288 with 1 Axes>"
      ]
     },
     "metadata": {},
     "output_type": "display_data"
    }
   ],
   "source": [
    "plt1.pie(PA12['CO2emissions'], labels= PA12['Entity'], autopct = \" %0.1f %% \")\n",
    "plt1.show()"
   ]
  },
  {
   "cell_type": "markdown",
   "metadata": {},
   "source": [
    "En el año 2012 se observa una similitud al año 2017, donde China tiene el primer puesto en mayor emisión de CO2, acaparando aproximadamente una quinta parte del total."
   ]
  },
  {
   "cell_type": "code",
   "execution_count": 74,
   "metadata": {},
   "outputs": [
    {
     "data": {
      "text/html": [
       "<div>\n",
       "<style scoped>\n",
       "    .dataframe tbody tr th:only-of-type {\n",
       "        vertical-align: middle;\n",
       "    }\n",
       "\n",
       "    .dataframe tbody tr th {\n",
       "        vertical-align: top;\n",
       "    }\n",
       "\n",
       "    .dataframe thead th {\n",
       "        text-align: right;\n",
       "    }\n",
       "</style>\n",
       "<table border=\"1\" class=\"dataframe\">\n",
       "  <thead>\n",
       "    <tr style=\"text-align: right;\">\n",
       "      <th></th>\n",
       "      <th>Entity</th>\n",
       "      <th>Code</th>\n",
       "      <th>Year</th>\n",
       "      <th>CO2emissions</th>\n",
       "    </tr>\n",
       "  </thead>\n",
       "  <tbody>\n",
       "    <tr>\n",
       "      <th>0</th>\n",
       "      <td>United States</td>\n",
       "      <td>USA</td>\n",
       "      <td>2005</td>\n",
       "      <td>6.132006e+09</td>\n",
       "    </tr>\n",
       "    <tr>\n",
       "      <th>1</th>\n",
       "      <td>China</td>\n",
       "      <td>CHN</td>\n",
       "      <td>2005</td>\n",
       "      <td>5.771168e+09</td>\n",
       "    </tr>\n",
       "    <tr>\n",
       "      <th>2</th>\n",
       "      <td>EU-28</td>\n",
       "      <td>E28</td>\n",
       "      <td>2005</td>\n",
       "      <td>4.314640e+09</td>\n",
       "    </tr>\n",
       "    <tr>\n",
       "      <th>3</th>\n",
       "      <td>Asia and Pacific (other)</td>\n",
       "      <td>AAP</td>\n",
       "      <td>2005</td>\n",
       "      <td>4.138394e+09</td>\n",
       "    </tr>\n",
       "    <tr>\n",
       "      <th>4</th>\n",
       "      <td>Europe (other)</td>\n",
       "      <td>EUO</td>\n",
       "      <td>2005</td>\n",
       "      <td>2.146674e+09</td>\n",
       "    </tr>\n",
       "    <tr>\n",
       "      <th>5</th>\n",
       "      <td>Americas (other)</td>\n",
       "      <td>AME</td>\n",
       "      <td>2005</td>\n",
       "      <td>2.076950e+09</td>\n",
       "    </tr>\n",
       "    <tr>\n",
       "      <th>6</th>\n",
       "      <td>others</td>\n",
       "      <td>OTH</td>\n",
       "      <td>2005</td>\n",
       "      <td>1.471370e+10</td>\n",
       "    </tr>\n",
       "  </tbody>\n",
       "</table>\n",
       "</div>"
      ],
      "text/plain": [
       "                     Entity Code  Year  CO2emissions\n",
       "0             United States  USA  2005  6.132006e+09\n",
       "1                     China  CHN  2005  5.771168e+09\n",
       "2                     EU-28  E28  2005  4.314640e+09\n",
       "3  Asia and Pacific (other)  AAP  2005  4.138394e+09\n",
       "4            Europe (other)  EUO  2005  2.146674e+09\n",
       "5          Americas (other)  AME  2005  2.076950e+09\n",
       "6                    others  OTH  2005  1.471370e+10"
      ]
     },
     "execution_count": 74,
     "metadata": {},
     "output_type": "execute_result"
    }
   ],
   "source": [
    "pa05=paises[paises['Year']==2005]\n",
    "pa05_sort=pa05.sort_values(by=['CO2emissions'], ascending= False)\n",
    "PA05=pa05_sort[0:6]\n",
    "PA052 = pa05_sort[6:]\n",
    "PA052_Sum= PA052['CO2emissions'].sum()\n",
    "PA05 = PA05.append({'Entity':'others','Code':'OTH','Year': 2005,'CO2emissions':PA052_Sum},ignore_index=True)\n",
    "PA05"
   ]
  },
  {
   "cell_type": "code",
   "execution_count": 68,
   "metadata": {},
   "outputs": [
    {
     "data": {
      "image/png": "[encoded data removed]",
      "text/plain": [
       "<Figure size 432x288 with 1 Axes>"
      ]
     },
     "metadata": {},
     "output_type": "display_data"
    }
   ],
   "source": [
    "plt1.pie(PA05['CO2emissions'], labels= PA05['Entity'], autopct = \" %0.1f %% \")\n",
    "plt1.show()"
   ]
  },
  {
   "cell_type": "markdown",
   "metadata": {},
   "source": [
    "Podemos observar que en el año 2005 quien más emisiones de CO2 tenía era Estados Unidos y no China, con un 15.6%, además la India no formaba parte del \"Top 6\", lo cual puede deberse a la explosión demográfica."
   ]
  },
  {
   "cell_type": "code",
   "execution_count": 75,
   "metadata": {},
   "outputs": [
    {
     "data": {
      "text/html": [
       "<div>\n",
       "<style scoped>\n",
       "    .dataframe tbody tr th:only-of-type {\n",
       "        vertical-align: middle;\n",
       "    }\n",
       "\n",
       "    .dataframe tbody tr th {\n",
       "        vertical-align: top;\n",
       "    }\n",
       "\n",
       "    .dataframe thead th {\n",
       "        text-align: right;\n",
       "    }\n",
       "</style>\n",
       "<table border=\"1\" class=\"dataframe\">\n",
       "  <thead>\n",
       "    <tr style=\"text-align: right;\">\n",
       "      <th></th>\n",
       "      <th>Entity</th>\n",
       "      <th>Code</th>\n",
       "      <th>Year</th>\n",
       "      <th>CO2emissions</th>\n",
       "    </tr>\n",
       "  </thead>\n",
       "  <tbody>\n",
       "    <tr>\n",
       "      <th>0</th>\n",
       "      <td>United States</td>\n",
       "      <td>USA</td>\n",
       "      <td>1997</td>\n",
       "      <td>5.703891e+09</td>\n",
       "    </tr>\n",
       "    <tr>\n",
       "      <th>1</th>\n",
       "      <td>EU-28</td>\n",
       "      <td>E28</td>\n",
       "      <td>1997</td>\n",
       "      <td>4.235932e+09</td>\n",
       "    </tr>\n",
       "    <tr>\n",
       "      <th>2</th>\n",
       "      <td>Asia and Pacific (other)</td>\n",
       "      <td>AAP</td>\n",
       "      <td>1997</td>\n",
       "      <td>3.557848e+09</td>\n",
       "    </tr>\n",
       "    <tr>\n",
       "      <th>3</th>\n",
       "      <td>China</td>\n",
       "      <td>CHN</td>\n",
       "      <td>1997</td>\n",
       "      <td>3.414549e+09</td>\n",
       "    </tr>\n",
       "    <tr>\n",
       "      <th>4</th>\n",
       "      <td>Europe (other)</td>\n",
       "      <td>EUO</td>\n",
       "      <td>1997</td>\n",
       "      <td>2.072333e+09</td>\n",
       "    </tr>\n",
       "    <tr>\n",
       "      <th>5</th>\n",
       "      <td>Americas (other)</td>\n",
       "      <td>AME</td>\n",
       "      <td>1997</td>\n",
       "      <td>1.766940e+09</td>\n",
       "    </tr>\n",
       "    <tr>\n",
       "      <th>6</th>\n",
       "      <td>others</td>\n",
       "      <td>OTH</td>\n",
       "      <td>1997</td>\n",
       "      <td>1.197053e+10</td>\n",
       "    </tr>\n",
       "  </tbody>\n",
       "</table>\n",
       "</div>"
      ],
      "text/plain": [
       "                     Entity Code  Year  CO2emissions\n",
       "0             United States  USA  1997  5.703891e+09\n",
       "1                     EU-28  E28  1997  4.235932e+09\n",
       "2  Asia and Pacific (other)  AAP  1997  3.557848e+09\n",
       "3                     China  CHN  1997  3.414549e+09\n",
       "4            Europe (other)  EUO  1997  2.072333e+09\n",
       "5          Americas (other)  AME  1997  1.766940e+09\n",
       "6                    others  OTH  1997  1.197053e+10"
      ]
     },
     "execution_count": 75,
     "metadata": {},
     "output_type": "execute_result"
    }
   ],
   "source": [
    "pa97=paises[paises['Year']==1997]\n",
    "pa97_sort=pa97.sort_values(by=['CO2emissions'], ascending= False)\n",
    "PA97=pa97_sort[0:6]\n",
    "PA972 = pa97_sort[6:]\n",
    "PA972_Sum= PA972['CO2emissions'].sum()\n",
    "PA97 = PA97.append({'Entity':'others','Code':'OTH','Year': 1997,'CO2emissions':PA972_Sum},ignore_index=True)\n",
    "PA97"
   ]
  },
  {
   "cell_type": "code",
   "execution_count": 76,
   "metadata": {},
   "outputs": [
    {
     "data": {
      "image/png": "[encoded data removed]",
      "text/plain": [
       "<Figure size 432x288 with 1 Axes>"
      ]
     },
     "metadata": {},
     "output_type": "display_data"
    }
   ],
   "source": [
    "plt1.pie(PA97['CO2emissions'], labels= PA97['Entity'], autopct = \" %0.1f %% \")\n",
    "plt1.show()"
   ]
  },
  {
   "cell_type": "markdown",
   "metadata": {},
   "source": [
    "En el año de 1997 cuando se firmó el Protocolo de Kioto, Estados Unidos y la Unión Europea eran quienes contaminaban más, lo que muestra por qué eran entidades de interés para este protocolo."
   ]
  },
  {
   "cell_type": "markdown",
   "metadata": {},
   "source": [
    "Revisamos brevemente cuales son las entidades que menos contaminan y sus respectivas emisiones a los años de 1997 y 2017, para ver si se dio alguna variación durante dichos años."
   ]
  },
  {
   "cell_type": "code",
   "execution_count": 86,
   "metadata": {},
   "outputs": [
    {
     "data": {
      "text/html": [
       "<div>\n",
       "<style scoped>\n",
       "    .dataframe tbody tr th:only-of-type {\n",
       "        vertical-align: middle;\n",
       "    }\n",
       "\n",
       "    .dataframe tbody tr th {\n",
       "        vertical-align: top;\n",
       "    }\n",
       "\n",
       "    .dataframe thead th {\n",
       "        text-align: right;\n",
       "    }\n",
       "</style>\n",
       "<table border=\"1\" class=\"dataframe\">\n",
       "  <thead>\n",
       "    <tr style=\"text-align: right;\">\n",
       "      <th></th>\n",
       "      <th>Entity</th>\n",
       "      <th>Code</th>\n",
       "      <th>Year</th>\n",
       "      <th>CO2emissions</th>\n",
       "    </tr>\n",
       "  </thead>\n",
       "  <tbody>\n",
       "    <tr>\n",
       "      <th>414</th>\n",
       "      <td>Antarctic Fisheries</td>\n",
       "      <td>ANF</td>\n",
       "      <td>1997</td>\n",
       "      <td>3664.0</td>\n",
       "    </tr>\n",
       "    <tr>\n",
       "      <th>8506</th>\n",
       "      <td>Niue</td>\n",
       "      <td>NIU</td>\n",
       "      <td>1997</td>\n",
       "      <td>7328.0</td>\n",
       "    </tr>\n",
       "    <tr>\n",
       "      <th>11839</th>\n",
       "      <td>Tuvalu</td>\n",
       "      <td>TUV</td>\n",
       "      <td>1997</td>\n",
       "      <td>7328.0</td>\n",
       "    </tr>\n",
       "    <tr>\n",
       "      <th>9551</th>\n",
       "      <td>Saint Helena</td>\n",
       "      <td>SHN</td>\n",
       "      <td>1997</td>\n",
       "      <td>10992.0</td>\n",
       "    </tr>\n",
       "    <tr>\n",
       "      <th>6278</th>\n",
       "      <td>Kiribati</td>\n",
       "      <td>KIR</td>\n",
       "      <td>1997</td>\n",
       "      <td>25648.0</td>\n",
       "    </tr>\n",
       "    <tr>\n",
       "      <th>7797</th>\n",
       "      <td>Montserrat</td>\n",
       "      <td>MSR</td>\n",
       "      <td>1997</td>\n",
       "      <td>32976.0</td>\n",
       "    </tr>\n",
       "  </tbody>\n",
       "</table>\n",
       "</div>"
      ],
      "text/plain": [
       "                    Entity Code  Year  CO2emissions\n",
       "414    Antarctic Fisheries  ANF  1997        3664.0\n",
       "8506                  Niue  NIU  1997        7328.0\n",
       "11839               Tuvalu  TUV  1997        7328.0\n",
       "9551          Saint Helena  SHN  1997       10992.0\n",
       "6278              Kiribati  KIR  1997       25648.0\n",
       "7797            Montserrat  MSR  1997       32976.0"
      ]
     },
     "execution_count": 86,
     "metadata": {},
     "output_type": "execute_result"
    }
   ],
   "source": [
    "pa97_s=pa97.sort_values(by=['CO2emissions'])[0:6]\n",
    "pa97_s"
   ]
  },
  {
   "cell_type": "code",
   "execution_count": 89,
   "metadata": {},
   "outputs": [
    {
     "data": {
      "image/png": "[encoded data removed]",
      "text/plain": [
       "<Figure size 432x288 with 1 Axes>"
      ]
     },
     "metadata": {
      "needs_background": "light"
     },
     "output_type": "display_data"
    }
   ],
   "source": [
    "plt1.bar(pa97_s['Entity'], pa97_s['CO2emissions'])\n",
    "plt1.show()"
   ]
  },
  {
   "cell_type": "markdown",
   "metadata": {},
   "source": [
    "El país que menos contaminaba en 1997 era Antarctic Fisheries, su emisión era menor a 5,000 toneladas de CO2 y las emisiones de los países que se encuentran en esta lista apenas y rebasaban las 30,000 toneladas."
   ]
  },
  {
   "cell_type": "code",
   "execution_count": 87,
   "metadata": {},
   "outputs": [
    {
     "data": {
      "text/html": [
       "<div>\n",
       "<style scoped>\n",
       "    .dataframe tbody tr th:only-of-type {\n",
       "        vertical-align: middle;\n",
       "    }\n",
       "\n",
       "    .dataframe tbody tr th {\n",
       "        vertical-align: top;\n",
       "    }\n",
       "\n",
       "    .dataframe thead th {\n",
       "        text-align: right;\n",
       "    }\n",
       "</style>\n",
       "<table border=\"1\" class=\"dataframe\">\n",
       "  <thead>\n",
       "    <tr style=\"text-align: right;\">\n",
       "      <th></th>\n",
       "      <th>Entity</th>\n",
       "      <th>Code</th>\n",
       "      <th>Year</th>\n",
       "      <th>CO2emissions</th>\n",
       "    </tr>\n",
       "  </thead>\n",
       "  <tbody>\n",
       "    <tr>\n",
       "      <th>9571</th>\n",
       "      <td>Saint Helena</td>\n",
       "      <td>SHN</td>\n",
       "      <td>2017</td>\n",
       "      <td>11695.79</td>\n",
       "    </tr>\n",
       "    <tr>\n",
       "      <th>8526</th>\n",
       "      <td>Niue</td>\n",
       "      <td>NIU</td>\n",
       "      <td>2017</td>\n",
       "      <td>12954.54</td>\n",
       "    </tr>\n",
       "    <tr>\n",
       "      <th>11859</th>\n",
       "      <td>Tuvalu</td>\n",
       "      <td>TUV</td>\n",
       "      <td>2017</td>\n",
       "      <td>12954.54</td>\n",
       "    </tr>\n",
       "    <tr>\n",
       "      <th>12444</th>\n",
       "      <td>Wallis and Futuna Islands</td>\n",
       "      <td>WFI</td>\n",
       "      <td>2017</td>\n",
       "      <td>25909.08</td>\n",
       "    </tr>\n",
       "    <tr>\n",
       "      <th>7817</th>\n",
       "      <td>Montserrat</td>\n",
       "      <td>MSR</td>\n",
       "      <td>2017</td>\n",
       "      <td>50681.75</td>\n",
       "    </tr>\n",
       "    <tr>\n",
       "      <th>8072</th>\n",
       "      <td>Nauru</td>\n",
       "      <td>NRU</td>\n",
       "      <td>2017</td>\n",
       "      <td>56136.33</td>\n",
       "    </tr>\n",
       "  </tbody>\n",
       "</table>\n",
       "</div>"
      ],
      "text/plain": [
       "                          Entity Code  Year  CO2emissions\n",
       "9571                Saint Helena  SHN  2017      11695.79\n",
       "8526                        Niue  NIU  2017      12954.54\n",
       "11859                     Tuvalu  TUV  2017      12954.54\n",
       "12444  Wallis and Futuna Islands  WFI  2017      25909.08\n",
       "7817                  Montserrat  MSR  2017      50681.75\n",
       "8072                       Nauru  NRU  2017      56136.33"
      ]
     },
     "execution_count": 87,
     "metadata": {},
     "output_type": "execute_result"
    }
   ],
   "source": [
    "pa17_s=pa17.sort_values(by=['CO2emissions'])[0:6]\n",
    "pa17_s"
   ]
  },
  {
   "cell_type": "code",
   "execution_count": 90,
   "metadata": {},
   "outputs": [
    {
     "data": {
      "image/png": "[encoded data removed]",
      "text/plain": [
       "<Figure size 432x288 with 1 Axes>"
      ]
     },
     "metadata": {
      "needs_background": "light"
     },
     "output_type": "display_data"
    }
   ],
   "source": [
    "plt1.bar(pa17_s['Entity'], pa17_s['CO2emissions'])\n",
    "plt1.show()"
   ]
  },
  {
   "cell_type": "markdown",
   "metadata": {},
   "source": [
    "En el año 2017 la entidad que menos contaminaba era Santa Helena con una cantidad poco mayor a las 10,000 toneladas. Mientras que los primeros países de esta lista cumplen con la caracteristica anterior de no emitir más de 30,000 tonelada, el número 5 y 6 emiten más de 50,000 lo que nos indica un aumento general de las emisiones de gases de efecto invernadero, es decir se dió a un nivel global y no sólo en algunos países. "
   ]
  },
  {
   "cell_type": "markdown",
   "metadata": {},
   "source": [
    "**Análisis las emisiones de CO2 a nivel global a lo largo de los años.**"
   ]
  },
  {
   "cell_type": "code",
   "execution_count": 77,
   "metadata": {},
   "outputs": [
    {
     "data": {
      "text/plain": [
       "<matplotlib.axes._subplots.AxesSubplot at 0x183d779f370>"
      ]
     },
     "execution_count": 77,
     "metadata": {},
     "output_type": "execute_result"
    },
    {
     "data": {
      "image/png": "[encoded data removed]",
      "text/plain": [
       "<Figure size 432x288 with 1 Axes>"
      ]
     },
     "metadata": {
      "needs_background": "light"
     },
     "output_type": "display_data"
    }
   ],
   "source": [
    "dataframe.plot.bar(x='Year', y='CO2emissions')"
   ]
  },
  {
   "cell_type": "markdown",
   "metadata": {},
   "source": [
    "La gráfica se ve algo saturada y aunque nos ayuda a observar la tendencia y el aumento de las emisiones, consideramos que un plot line nos sería de más ayuda."
   ]
  },
  {
   "cell_type": "code",
   "execution_count": 78,
   "metadata": {},
   "outputs": [
    {
     "data": {
      "text/plain": [
       "<matplotlib.axes._subplots.AxesSubplot at 0x183d76ee1c0>"
      ]
     },
     "execution_count": 78,
     "metadata": {},
     "output_type": "execute_result"
    },
    {
     "data": {
      "image/png": "[encoded data removed]",
      "text/plain": [
       "<Figure size 432x288 with 1 Axes>"
      ]
     },
     "metadata": {
      "needs_background": "light"
     },
     "output_type": "display_data"
    }
   ],
   "source": [
    "dataframe.plot.line(x='Year', y='CO2emissions')"
   ]
  },
  {
   "cell_type": "markdown",
   "metadata": {},
   "source": [
    "Realizaremos un plot scatter para ver la tendencia de nuestros datos."
   ]
  },
  {
   "cell_type": "code",
   "execution_count": 79,
   "metadata": {},
   "outputs": [
    {
     "data": {
      "text/plain": [
       "<matplotlib.axes._subplots.AxesSubplot at 0x183d76ee910>"
      ]
     },
     "execution_count": 79,
     "metadata": {},
     "output_type": "execute_result"
    },
    {
     "data": {
      "image/png": "[encoded data removed]",
      "text/plain": [
       "<Figure size 432x288 with 1 Axes>"
      ]
     },
     "metadata": {
      "needs_background": "light"
     },
     "output_type": "display_data"
    }
   ],
   "source": [
    "dataframe.plot.scatter(x='Year', y='CO2emissions')"
   ]
  },
  {
   "cell_type": "markdown",
   "metadata": {},
   "source": [
    "Vemos cómo la emisión de CO2 ha aumentado al paso de los años y se podría ajustar a una recta. "
   ]
  },
  {
   "cell_type": "markdown",
   "metadata": {},
   "source": [
    "## *Conclusiones*\n",
    "\n",
    "A través de este análisis nos fue posible entender mejor nuestra base de datos y de esta forma modificarla para facilitarnos su uso. \n",
    "\n",
    "A pesar de que aún será necesario realizar un análisis más profundo para poder cumplir con nuestro objetivo principal, después de revisar nuestros datos pudimos efectivamente responder algunos de nuestros objetivos secundarios. Entre ellos, pudimos identificar a los países que más emisiones de gases de efecto invernadero emiten, evaluándolos también a lo largo de cuatro años clave para el Protocolo de Kioto para así darnos una idea de la evolución que se dio gracias a este.\n",
    "\n",
    "Además, revisamos a aquellos paises que menos emisiones realizan para observar los cambios que se dieron en estos en los últimos años esto dado a que ellos nunca estuvieron restringidos por el protocolo y nos interesaba conocer su evolución.\n",
    "Por el momento las estrategias utilizadas para la elaboración de este trabajo son las mismas que se tenian contempladas."
   ]
  }
 ],
 "metadata": {
  "kernelspec": {
   "display_name": "Python 3",
   "language": "python",
   "name": "python3"
  },
  "language_info": {
   "codemirror_mode": {
    "name": "ipython",
    "version": 3
   },
   "file_extension": ".py",
   "mimetype": "text/x-python",
   "name": "python",
   "nbconvert_exporter": "python",
   "pygments_lexer": "ipython3",
   "version": "3.8.3"
  }
 },
 "nbformat": 4,
 "nbformat_minor": 4
}
